{
  "nbformat": 4,
  "nbformat_minor": 0,
  "metadata": {
    "colab": {
      "provenance": []
    },
    "kernelspec": {
      "name": "python3",
      "display_name": "Python 3"
    },
    "language_info": {
      "name": "python"
    }
  },
  "cells": [
    {
      "cell_type": "code",
      "execution_count": 1,
      "metadata": {
        "colab": {
          "base_uri": "https://localhost:8080/"
        },
        "id": "_6SJW1PQuZ64",
        "outputId": "a6ccc721-b8bd-4c41-a827-43b6e0a83f0d"
      },
      "outputs": [
        {
          "output_type": "stream",
          "name": "stdout",
          "text": [
            "Enter the text to be processed: there was a cat on the table\n",
            "\n",
            "Tokens: ['there', 'was', 'a', 'cat', 'on', 'the', 'table']\n",
            "\n",
            "Lemmatized Tokens: ['there', 'be', 'a', 'cat', 'on', 'the', 'table']\n",
            "\n",
            "Stemmed Tokens: ['there', 'wa', 'a', 'cat', 'on', 'the', 'tabl']\n",
            "\n",
            "Filtered Tokens (Stop Words Removed): ['cat', 'table']\n"
          ]
        }
      ],
      "source": [
        "import spacy\n",
        "from nltk.stem import PorterStemmer\n",
        "\n",
        "# Load the SpaCy English model\n",
        "nlp = spacy.load('en_core_web_sm')\n",
        "\n",
        "# Initialize NLTK's PorterStemmer\n",
        "stemmer = PorterStemmer()\n",
        "\n",
        "# Take input from the user\n",
        "text = input(\"Enter the text to be processed: \")\n",
        "\n",
        "# Tokenization using SpaCy\n",
        "doc = nlp(text)\n",
        "tokens = [token.text for token in doc]\n",
        "print(f\"\\nTokens: {tokens}\")\n",
        "\n",
        "# Lemmatization using SpaCy\n",
        "lemmatized_tokens = [token.lemma_ for token in doc]\n",
        "print(f\"\\nLemmatized Tokens: {lemmatized_tokens}\")\n",
        "\n",
        "# Stemming using NLTK's PorterStemmer\n",
        "stemmed_tokens = [stemmer.stem(token) for token in tokens]\n",
        "print(f\"\\nStemmed Tokens: {stemmed_tokens}\")\n",
        "\n",
        "# Stop word removal (using SpaCy's default stop words list)\n",
        "filtered_tokens = [token.text for token in doc if not token.is_stop]\n",
        "print(f\"\\nFiltered Tokens (Stop Words Removed): {filtered_tokens}\")"
      ]
    },
    {
      "cell_type": "code",
      "source": [],
      "metadata": {
        "id": "QbQs7aKnunGY"
      },
      "execution_count": null,
      "outputs": []
    }
  ]
}