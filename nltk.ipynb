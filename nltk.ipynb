{
  "nbformat": 4,
  "nbformat_minor": 0,
  "metadata": {
    "colab": {
      "provenance": []
    },
    "kernelspec": {
      "name": "python3",
      "display_name": "Python 3"
    },
    "language_info": {
      "name": "python"
    }
  },
  "cells": [
    {
      "cell_type": "code",
      "execution_count": 1,
      "metadata": {
        "colab": {
          "base_uri": "https://localhost:8080/"
        },
        "id": "eze-oIx7uD11",
        "outputId": "adb124ac-292c-41b2-bdc1-6b314d69493b"
      },
      "outputs": [
        {
          "output_type": "stream",
          "name": "stderr",
          "text": [
            "[nltk_data] Downloading package punkt to /root/nltk_data...\n",
            "[nltk_data]   Unzipping tokenizers/punkt.zip.\n",
            "[nltk_data] Downloading package stopwords to /root/nltk_data...\n",
            "[nltk_data]   Unzipping corpora/stopwords.zip.\n",
            "[nltk_data] Downloading package wordnet to /root/nltk_data...\n"
          ]
        },
        {
          "output_type": "stream",
          "name": "stdout",
          "text": [
            "Sentences: ['Hello, world!', 'This is an example sentence.', \"Let's see how it gets tokenized, lemmatized, and stemmed.\"]\n",
            "Words: ['Hello', ',', 'world', '!', 'This', 'is', 'an', 'example', 'sentence', '.', 'Let', \"'s\", 'see', 'how', 'it', 'gets', 'tokenized', ',', 'lemmatized', ',', 'and', 'stemmed', '.']\n",
            "Filtered Words (Stop Words Removed): ['hello', 'world', 'example', 'sentence', 'let', 'see', 'gets', 'tokenized', 'lemmatized', 'stemmed']\n",
            "Lemmatized Words: ['hello', 'world', 'example', 'sentence', 'let', 'see', 'get', 'tokenized', 'lemmatized', 'stemmed']\n",
            "Stemmed Words: ['hello', 'world', 'exampl', 'sentenc', 'let', 'see', 'get', 'token', 'lemmat', 'stem']\n"
          ]
        }
      ],
      "source": [
        "import nltk\n",
        "from nltk.tokenize import word_tokenize, sent_tokenize\n",
        "from nltk.corpus import stopwords\n",
        "from nltk.stem import WordNetLemmatizer, PorterStemmer\n",
        "\n",
        "# Download necessary NLTK datasets\n",
        "nltk.download('punkt')\n",
        "nltk.download('stopwords')\n",
        "nltk.download('wordnet')\n",
        "\n",
        "# Example text\n",
        "text = \"Hello, world! This is an example sentence. Let's see how it gets tokenized, lemmatized, and stemmed.\"\n",
        "\n",
        "# Sentence Tokenization\n",
        "sentences = sent_tokenize(text)\n",
        "print(\"Sentences:\", sentences)\n",
        "\n",
        "# Word Tokenization\n",
        "words = word_tokenize(text)\n",
        "print(\"Words:\", words)\n",
        "\n",
        "# Initialize Lemmatizer and Stemmer\n",
        "lemmatizer = WordNetLemmatizer()\n",
        "stemmer = PorterStemmer()\n",
        "\n",
        "# Get stop words\n",
        "stop_words = set(stopwords.words('english'))\n",
        "\n",
        "# Remove Stop Words, Lemmatize and Stem\n",
        "filtered_words = []\n",
        "lemmatized_words = []\n",
        "stemmed_words = []\n",
        "\n",
        "for word in words:\n",
        "    # Remove punctuation and convert to lowercase\n",
        "    if word.isalpha():\n",
        "        word_lower = word.lower()\n",
        "        if word_lower not in stop_words:\n",
        "            filtered_words.append(word_lower)\n",
        "            lemmatized_words.append(lemmatizer.lemmatize(word_lower))\n",
        "            stemmed_words.append(stemmer.stem(word_lower))\n",
        "\n",
        "print(\"Filtered Words (Stop Words Removed):\", filtered_words)\n",
        "print(\"Lemmatized Words:\", lemmatized_words)\n",
        "print(\"Stemmed Words:\", stemmed_words)"
      ]
    },
    {
      "cell_type": "code",
      "source": [],
      "metadata": {
        "id": "KusgaKobuKRN"
      },
      "execution_count": null,
      "outputs": []
    }
  ]
}